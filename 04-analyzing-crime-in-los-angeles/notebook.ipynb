{
 "cells": [
  {
   "cell_type": "markdown",
   "id": "0",
   "metadata": {},
   "source": [
    "![Los Angeles skyline](la_skyline.jpg)\n",
    "\n",
    "Los Angeles, California 😎. The City of Angels. Tinseltown. The Entertainment Capital of the World! \n",
    "\n",
    "Known for its warm weather, palm trees, sprawling coastline, and Hollywood, along with producing some of the most iconic films and songs. However, as with any highly populated city, it isn't always glamorous and there can be a large volume of crime. That's where you can help!\n",
    "\n",
    "You have been asked to support the Los Angeles Police Department (LAPD) by analyzing crime data to identify patterns in criminal behavior. They plan to use your insights to allocate resources effectively to tackle various crimes in different areas.\n",
    "\n",
    "## The Data\n",
    "\n",
    "They have provided you with a single dataset to use. A summary and preview are provided below.\n",
    "\n",
    "It is a modified version of the original data, which is publicly available from Los Angeles Open Data.\n",
    "\n",
    "# crimes.csv\n",
    "\n",
    "| Column     | Description              |\n",
    "|------------|--------------------------|\n",
    "| `'DR_NO'` | Division of Records Number: Official file number made up of a 2-digit year, area ID, and 5 digits. |\n",
    "| `'Date Rptd'` | Date reported - MM/DD/YYYY. |\n",
    "| `'DATE OCC'` | Date of occurrence - MM/DD/YYYY. |\n",
    "| `'TIME OCC'` | In 24-hour military time. |\n",
    "| `'AREA NAME'` | The 21 Geographic Areas or Patrol Divisions are also given a name designation that references a landmark or the surrounding community that it is responsible for. For example, the 77th Street Division is located at the intersection of South Broadway and 77th Street, serving neighborhoods in South Los Angeles. |\n",
    "| `'Crm Cd Desc'` | Indicates the crime committed. |\n",
    "| `'Vict Age'` | Victim's age in years. |\n",
    "| `'Vict Sex'` | Victim's sex: `F`: Female, `M`: Male, `X`: Unknown. |\n",
    "| `'Vict Descent'` | Victim's descent:<ul><li>`A` - Other Asian</li><li>`B` - Black</li><li>`C` - Chinese</li><li>`D` - Cambodian</li><li>`F` - Filipino</li><li>`G` - Guamanian</li><li>`H` - Hispanic/Latin/Mexican</li><li>`I` - American Indian/Alaskan Native</li><li>`J` - Japanese</li><li>`K` - Korean</li><li>`L` - Laotian</li><li>`O` - Other</li><li>`P` - Pacific Islander</li><li>`S` - Samoan</li><li>`U` - Hawaiian</li><li>`V` - Vietnamese</li><li>`W` - White</li><li>`X` - Unknown</li><li>`Z` - Asian Indian</li> |\n",
    "| `'Weapon Desc'` | Description of the weapon used (if applicable). |\n",
    "| `'Status Desc'` | Crime status. |\n",
    "| `'LOCATION'` | Street address of the crime. |"
   ]
  },
  {
   "cell_type": "code",
   "execution_count": null,
   "id": "1",
   "metadata": {
    "executionCancelledAt": null,
    "executionTime": null,
    "lastExecutedAt": null,
    "lastExecutedByKernel": null,
    "lastScheduledRunId": null,
    "lastSuccessfullyExecutedCode": null,
    "outputsMetadata": {
     "0": {
      "height": 50,
      "tableState": {
       "customFilter": {
        "const": {
         "type": "boolean",
         "valid": true,
         "value": true
        },
        "id": "30377c41-e08b-47db-a1d8-03d594d6197a",
        "nodeType": "const"
       },
       "quickFilterText": ""
      },
      "type": "dataFrame"
     }
    }
   },
   "outputs": [],
   "source": [
    "# Re-run this cell\n",
    "# Import required libraries\n",
    "import pandas as pd\n",
    "import numpy as np\n",
    "import matplotlib.pyplot as plt\n",
    "import seaborn as sns\n",
    "crimes = pd.read_csv(\"crimes.csv\", dtype={\"TIME OCC\": str})\n",
    "crimes.head()"
   ]
  },
  {
   "cell_type": "code",
   "execution_count": null,
   "id": "2",
   "metadata": {
    "executionCancelledAt": null,
    "executionTime": 546,
    "lastExecutedAt": 1754372621499,
    "lastExecutedByKernel": "f2444280-2bf2-409e-93ea-abf82cfeefce",
    "lastScheduledRunId": null,
    "lastSuccessfullyExecutedCode": "crimes['HOUR OCC'] = crimes['TIME OCC'].str[:2].astype(int)\nsns.countplot(data=crimes, x='HOUR OCC')\nplt.show()\n"
   },
   "outputs": [],
   "source": [
    "crimes['HOUR OCC'] = crimes['TIME OCC'].str[:2].astype(int)\n",
    "sns.countplot(data=crimes, x='HOUR OCC')\n",
    "plt.show()\n"
   ]
  },
  {
   "cell_type": "code",
   "execution_count": null,
   "id": "3",
   "metadata": {
    "executionCancelledAt": null,
    "executionTime": 47,
    "lastExecutedAt": 1754372621546,
    "lastExecutedByKernel": "f2444280-2bf2-409e-93ea-abf82cfeefce",
    "lastScheduledRunId": null,
    "lastSuccessfullyExecutedCode": "peak_crime_hour = 12"
   },
   "outputs": [],
   "source": [
    "peak_crime_hour = 12"
   ]
  },
  {
   "cell_type": "code",
   "execution_count": null,
   "id": "4",
   "metadata": {
    "executionCancelledAt": null,
    "executionTime": 48,
    "lastExecutedAt": 1754372621596,
    "lastExecutedByKernel": "f2444280-2bf2-409e-93ea-abf82cfeefce",
    "lastScheduledRunId": null,
    "lastSuccessfullyExecutedCode": "night_hours = crimes[(crimes['HOUR OCC'] >= 22) | (crimes['HOUR OCC'] <= 3)]\npeak_night_crime_location = night_hours.groupby('AREA NAME', as_index=False)['HOUR OCC'].count().sort_values('HOUR OCC', ascending=False).iloc[0]['AREA NAME']\nprint(peak_night_crime_location)",
    "outputsMetadata": {
     "0": {
      "height": 38,
      "type": "stream"
     }
    }
   },
   "outputs": [],
   "source": [
    "night_hours = crimes[(crimes['HOUR OCC'] >= 22) | (crimes['HOUR OCC'] <= 3)]\n",
    "peak_night_crime_location = night_hours.groupby('AREA NAME', as_index=False)['HOUR OCC'].count().sort_values('HOUR OCC', ascending=False).iloc[0]['AREA NAME']\n",
    "print(peak_night_crime_location)"
   ]
  },
  {
   "cell_type": "code",
   "execution_count": null,
   "id": "5",
   "metadata": {
    "executionCancelledAt": null,
    "executionTime": 48,
    "lastExecutedAt": 1754372621644,
    "lastExecutedByKernel": "f2444280-2bf2-409e-93ea-abf82cfeefce",
    "lastScheduledRunId": null,
    "lastSuccessfullyExecutedCode": "labels = [\"0-17\", \"18-25\", \"26-34\", \"35-44\", \"45-54\", \"55-64\", \"65+\"]\nbins = [0, 17, 25, 34, 44, 54, 64, np.inf]\ncrimes['age_group'] = pd.cut(crimes['Vict Age'], bins=bins, labels=labels, right=True)\nvictim_ages = crimes['age_group'].value_counts().sort_index()\nprint(victim_ages)",
    "outputsMetadata": {
     "0": {
      "height": 185,
      "type": "stream"
     }
    }
   },
   "outputs": [],
   "source": [
    "labels = [\"0-17\", \"18-25\", \"26-34\", \"35-44\", \"45-54\", \"55-64\", \"65+\"]\n",
    "bins = [0, 17, 25, 34, 44, 54, 64, np.inf]\n",
    "crimes['age_group'] = pd.cut(crimes['Vict Age'], bins=bins, labels=labels, right=True)\n",
    "victim_ages = crimes['age_group'].value_counts().sort_index()\n",
    "print(victim_ages)"
   ]
  }
 ],
 "metadata": {
  "colab": {
   "name": "Welcome to DataCamp Workspaces.ipynb",
   "provenance": []
  },
  "editor": "DataLab",
  "kernelspec": {
   "display_name": "Python 3 (User venv)",
   "language": "python",
   "name": "python3"
  },
  "language_info": {
   "codemirror_mode": {
    "name": "ipython",
    "version": 3
   },
   "file_extension": ".py",
   "mimetype": "text/x-python",
   "name": "python",
   "nbconvert_exporter": "python",
   "pygments_lexer": "ipython3",
   "version": "3.12.11"
  }
 },
 "nbformat": 4,
 "nbformat_minor": 5
}
