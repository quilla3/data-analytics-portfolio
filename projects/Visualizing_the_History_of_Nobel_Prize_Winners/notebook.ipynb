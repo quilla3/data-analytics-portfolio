{
 "cells": [
  {
   "cell_type": "markdown",
   "id": "0",
   "metadata": {},
   "source": [
    "The Nobel Prize has been among the most prestigious international awards since 1901. Each year, awards are bestowed in chemistry, literature, physics, physiology or medicine, economics, and peace. In addition to the honor, prestige, and substantial prize money, the recipient also gets a gold medal with an image of Alfred Nobel (1833 - 1896), who established the prize.\n",
    "\n",
    "![](Nobel_Prize.png)\n",
    "\n",
    "The Nobel Foundation has made a dataset available of all prize winners from the outset of the awards from 1901 to 2023. The dataset used in this project is from the Nobel Prize API and is available in the `nobel.csv` file in the `data` folder.\n",
    "\n",
    "In this project, you'll get a chance to explore and answer several questions related to this prizewinning data. And we encourage you then to explore further questions that you're interested in!"
   ]
  },
  {
   "cell_type": "code",
   "execution_count": null,
   "id": "1",
   "metadata": {
    "executionCancelledAt": null,
    "executionTime": 20,
    "lastExecutedAt": 1750484842166,
    "lastExecutedByKernel": "f7c14715-8f13-4796-bf45-ae2e23f6fa6b",
    "lastScheduledRunId": null,
    "lastSuccessfullyExecutedCode": "# Loading in required libraries\nimport pandas as pd\nimport seaborn as sns\nimport matplotlib.pyplot as plt\nimport numpy as np\n\n# Start coding here!\ndf=pd.read_csv(\"data/nobel.csv\")"
   },
   "outputs": [],
   "source": [
    "# Loading in required libraries\n",
    "import pandas as pd\n",
    "import seaborn as sns\n",
    "import matplotlib.pyplot as plt\n",
    "import numpy as np\n",
    "\n",
    "# Start coding here!\n",
    "df=pd.read_csv(\"data/nobel.csv\")"
   ]
  },
  {
   "cell_type": "code",
   "execution_count": null,
   "id": "2",
   "metadata": {
    "executionCancelledAt": null,
    "executionTime": 51,
    "lastExecutedAt": 1750484842217,
    "lastExecutedByKernel": "f7c14715-8f13-4796-bf45-ae2e23f6fa6b",
    "lastScheduledRunId": null,
    "lastSuccessfullyExecutedCode": "df.head()",
    "outputsMetadata": {
     "0": {
      "chartState": {
       "chartModel": {
        "cellRange": {
         "columns": [],
         "rowEndIndex": null,
         "rowEndPinned": null,
         "rowStartIndex": null,
         "rowStartPinned": null
        },
        "chartId": "id-9n9vqq4333v",
        "chartOptions": {
         "common": {
          "animation": {
           "enabled": true
          }
         }
        },
        "chartPalette": {
         "altDown": {
          "fill": "#ffa03a",
          "stroke": "#cc6f10"
         },
         "altNeutral": {
          "fill": "#b5b5b5",
          "stroke": "#575757"
         },
         "altUp": {
          "fill": "#5090dc",
          "stroke": "#2b5c95"
         },
         "down": {
          "fill": "#ef5452",
          "stroke": "#a82529"
         },
         "fills": [
          "#6568A0",
          "#43D7A4",
          "#4095DB",
          "#FACC5F",
          "#CAE279",
          "#F08083",
          "#5BCDF2",
          "#F099DC",
          "#965858",
          "#7DB64F",
          "#A98954"
         ],
         "neutral": {
          "fill": "#b5b5b5",
          "stroke": "#575757"
         },
         "strokes": [
          "#6568A0",
          "#43D7A4",
          "#4095DB",
          "#FACC5F",
          "#CAE279",
          "#F08083",
          "#5BCDF2",
          "#F099DC",
          "#965858",
          "#7DB64F",
          "#A98954"
         ],
         "up": {
          "fill": "#459d55",
          "stroke": "#1e652e"
         }
        },
        "chartThemeName": "datalabTheme",
        "chartType": "groupedColumn",
        "modelType": "range",
        "suppressChartRanges": false,
        "switchCategorySeries": false,
        "unlinkChart": false,
        "version": "32.2.2"
       },
       "rangeChartModel": {
        "rangeColumns": [],
        "switchCategorySeries": false
       }
      },
      "height": 50,
      "tableState": {
       "customFilter": {
        "const": {
         "type": "boolean",
         "valid": true,
         "value": true
        },
        "id": "08934166-984f-4e98-8a79-a7ecdf5c89ee",
        "nodeType": "const"
       }
      },
      "type": "dataFrame"
     }
    },
    "version": "ag-charts-v1",
    "visualizeDataframe": false
   },
   "outputs": [],
   "source": [
    "df.head()"
   ]
  },
  {
   "cell_type": "code",
   "execution_count": null,
   "id": "3",
   "metadata": {
    "executionCancelledAt": null,
    "executionTime": 48,
    "lastExecutedAt": 1750484842265,
    "lastExecutedByKernel": "f7c14715-8f13-4796-bf45-ae2e23f6fa6b",
    "lastScheduledRunId": null,
    "lastSuccessfullyExecutedCode": "# What is the most commonly awarded gender and birth country?\ntop_gender = df[\"sex\"].value_counts().index[0]\ntop_country = df[\"birth_country\"].value_counts().index[0]",
    "outputsMetadata": {
     "0": {
      "height": 50,
      "tableState": {
       "customFilter": {
        "const": {
         "type": "boolean",
         "valid": true,
         "value": true
        },
        "id": "240b61b4-eb67-42bb-9805-6b37f8d8d0c5",
        "nodeType": "const"
       }
      },
      "type": "dataFrame"
     }
    }
   },
   "outputs": [],
   "source": [
    "# What is the most commonly awarded gender and birth country?\n",
    "top_gender = df[\"sex\"].value_counts().index[0]\n",
    "top_country = df[\"birth_country\"].value_counts().index[0]"
   ]
  },
  {
   "cell_type": "code",
   "execution_count": null,
   "id": "4",
   "metadata": {
    "executionCancelledAt": null,
    "executionTime": 60,
    "lastExecutedAt": 1750484842326,
    "lastExecutedByKernel": "f7c14715-8f13-4796-bf45-ae2e23f6fa6b",
    "lastScheduledRunId": null,
    "lastSuccessfullyExecutedCode": "# Which decade had the highest ratio of US-born Nobel Prize winners to total winners in all categories?\ndf['us_born'] = df['birth_country'] == 'United States of America'\ndf['decade'] = (np.floor(df['year'] / 10) * 10).astype(int)\ndecade_usa = df.groupby('decade', as_index=False)['us_born'].mean()\nmax_decade_usa = decade_usa[decade_usa['us_born'] == decade_usa['us_born'].max()]['decade'].values[0]\nmax_decade_usa",
    "outputsMetadata": {
     "0": {
      "height": 465,
      "tableState": {
       "customFilter": {
        "const": {
         "type": "boolean",
         "valid": true,
         "value": true
        },
        "id": "dca679b8-9777-4445-a765-578bfea3b789",
        "nodeType": "const"
       }
      },
      "type": "dataFrame"
     }
    }
   },
   "outputs": [],
   "source": [
    "# Which decade had the highest ratio of US-born Nobel Prize winners to total winners in all categories?\n",
    "df['us_born'] = df['birth_country'] == 'United States of America'\n",
    "df['decade'] = (np.floor(df['year'] / 10) * 10).astype(int)\n",
    "decade_usa = df.groupby('decade', as_index=False)['us_born'].mean()\n",
    "max_decade_usa = decade_usa[decade_usa['us_born'] == decade_usa['us_born'].max()]['decade'].values[0]\n",
    "max_decade_usa"
   ]
  },
  {
   "cell_type": "code",
   "execution_count": null,
   "id": "5",
   "metadata": {
    "executionCancelledAt": null,
    "executionTime": 51,
    "lastExecutedAt": 1750484842377,
    "lastExecutedByKernel": "f7c14715-8f13-4796-bf45-ae2e23f6fa6b",
    "lastScheduledRunId": null,
    "lastSuccessfullyExecutedCode": "# Which decade and Nobel Prize category combination had the highest proportion of female laureates?\ndf['female'] = df['sex'] == 'Female'\nfemale_prop = df.groupby(['decade', 'category'], as_index=False)['female'].mean()\nmax_female_dict = {\n    female_prop[female_prop['female'] == female_prop['female'].max()]['decade'].values[0] : \n    female_prop[female_prop['female'] == female_prop['female'].max()]['category'].values[0]\n}\nmax_female_dict",
    "outputsMetadata": {
     "0": {
      "height": 550,
      "tableState": {
       "customFilter": {
        "const": {
         "type": "boolean",
         "valid": true,
         "value": true
        },
        "id": "dca679b8-9777-4445-a765-578bfea3b789",
        "nodeType": "const"
       }
      },
      "type": "dataFrame"
     }
    }
   },
   "outputs": [],
   "source": [
    "# Which decade and Nobel Prize category combination had the highest proportion of female laureates?\n",
    "df['female'] = df['sex'] == 'Female'\n",
    "female_prop = df.groupby(['decade', 'category'], as_index=False)['female'].mean()\n",
    "max_female_dict = {\n",
    "    female_prop[female_prop['female'] == female_prop['female'].max()]['decade'].values[0] : \n",
    "    female_prop[female_prop['female'] == female_prop['female'].max()]['category'].values[0]\n",
    "}\n",
    "max_female_dict"
   ]
  },
  {
   "cell_type": "code",
   "execution_count": null,
   "id": "6",
   "metadata": {
    "executionCancelledAt": null,
    "executionTime": 423,
    "lastExecutedAt": 1750484842800,
    "lastExecutedByKernel": "f7c14715-8f13-4796-bf45-ae2e23f6fa6b",
    "lastScheduledRunId": null,
    "lastSuccessfullyExecutedCode": "sns.relplot(\n    x='decade',\n    y='female',\n    data=female_prop,\n    kind='line',\n    hue='category'\n)\nplt.show()"
   },
   "outputs": [],
   "source": [
    "sns.relplot(\n",
    "    x='decade',\n",
    "    y='female',\n",
    "    data=female_prop,\n",
    "    kind='line',\n",
    "    hue='category'\n",
    ")\n",
    "plt.show()"
   ]
  },
  {
   "cell_type": "code",
   "execution_count": null,
   "id": "7",
   "metadata": {
    "executionCancelledAt": null,
    "executionTime": 49,
    "lastExecutedAt": 1750484842849,
    "lastExecutedByKernel": "f7c14715-8f13-4796-bf45-ae2e23f6fa6b",
    "lastScheduledRunId": null,
    "lastSuccessfullyExecutedCode": "# Who was the first woman to receive a Nobel Prize, and in what category?\nfemale = df[df['sex'] == 'Female']\nfirst_woman = female[female['year'] == female['year'].min()]\nfirst_woman_name = first_woman['full_name'].values[0]\nfirst_woman_category = first_woman['category'].values[0]",
    "outputsMetadata": {
     "0": {
      "height": 50,
      "tableState": {
       "customFilter": {
        "const": {
         "type": "boolean",
         "valid": true,
         "value": true
        },
        "id": "dca679b8-9777-4445-a765-578bfea3b789",
        "nodeType": "const"
       }
      },
      "type": "dataFrame"
     }
    }
   },
   "outputs": [],
   "source": [
    "# Who was the first woman to receive a Nobel Prize, and in what category?\n",
    "female = df[df['sex'] == 'Female']\n",
    "first_woman = female[female['year'] == female['year'].min()]\n",
    "first_woman_name = first_woman['full_name'].values[0]\n",
    "first_woman_category = first_woman['category'].values[0]"
   ]
  },
  {
   "cell_type": "code",
   "execution_count": null,
   "id": "8",
   "metadata": {
    "executionCancelledAt": null,
    "executionTime": 49,
    "lastExecutedAt": 1750484842898,
    "lastExecutedByKernel": "f7c14715-8f13-4796-bf45-ae2e23f6fa6b",
    "lastScheduledRunId": null,
    "lastSuccessfullyExecutedCode": "# Which individuals or organizations have won more than one Nobel Prize throughout the years?\ncounts = df['full_name'].value_counts()\nrepeat_list = list(counts[counts >= 2].index)\nrepeat_list",
    "outputsMetadata": {
     "0": {
      "height": 550,
      "tableState": {
       "customFilter": {
        "const": {
         "type": "boolean",
         "valid": true,
         "value": true
        },
        "id": "dca679b8-9777-4445-a765-578bfea3b789",
        "nodeType": "const"
       }
      },
      "type": "dataFrame"
     }
    }
   },
   "outputs": [],
   "source": [
    "# Which individuals or organizations have won more than one Nobel Prize throughout the years?\n",
    "counts = df['full_name'].value_counts()\n",
    "repeat_list = list(counts[counts >= 2].index)\n",
    "repeat_list"
   ]
  }
 ],
 "metadata": {
  "editor": "DataLab",
  "kernelspec": {
   "display_name": "Python 3 (User venv)",
   "language": "python",
   "name": "python3"
  },
  "language_info": {
   "codemirror_mode": {
    "name": "ipython",
    "version": 3
   },
   "file_extension": ".py",
   "mimetype": "text/x-python",
   "name": "python",
   "nbconvert_exporter": "python",
   "pygments_lexer": "ipython3",
   "version": "3.12.11"
  }
 },
 "nbformat": 4,
 "nbformat_minor": 5
}
