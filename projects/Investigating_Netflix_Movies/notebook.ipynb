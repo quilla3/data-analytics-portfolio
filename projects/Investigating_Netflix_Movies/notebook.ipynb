{
 "cells": [
  {
   "cell_type": "markdown",
   "id": "0",
   "metadata": {},
   "source": [
    "<center><img src=\"redpopcorn.jpg\"></center>"
   ]
  },
  {
   "cell_type": "markdown",
   "id": "1",
   "metadata": {},
   "source": [
    "**Netflix**! What started in 1997 as a DVD rental service has since exploded into one of the largest entertainment and media companies.\n",
    "\n",
    "Given the large number of movies and series available on the platform, it is a perfect opportunity to flex your exploratory data analysis skills and dive into the entertainment industry.\n",
    "\n",
    "You work for a production company that specializes in nostalgic styles. You want to do some research on movies released in the 1990's. You'll delve into Netflix data and perform exploratory data analysis to better understand this awesome movie decade!\n",
    "\n",
    "You have been supplied with the dataset `netflix_data.csv`, along with the following table detailing the column names and descriptions. Feel free to experiment further after submitting!\n",
    "\n",
    "## The data\n",
    "### **netflix_data.csv**\n",
    "| Column | Description |\n",
    "|--------|-------------|\n",
    "| `show_id` | The ID of the show |\n",
    "| `type` | Type of show |\n",
    "| `title` | Title of the show |\n",
    "| `director` | Director of the show |\n",
    "| `cast` | Cast of the show |\n",
    "| `country` | Country of origin |\n",
    "| `date_added` | Date added to Netflix |\n",
    "| `release_year` | Year of Netflix release |\n",
    "| `duration` | Duration of the show in minutes |\n",
    "| `description` | Description of the show |\n",
    "| `genre` | Show genre |"
   ]
  },
  {
   "cell_type": "code",
   "execution_count": null,
   "id": "2",
   "metadata": {
    "executionCancelledAt": null,
    "executionTime": 3719,
    "lastExecutedAt": 1754372668363,
    "lastExecutedByKernel": "b93c97b8-1765-4e06-9911-ee21ffa435db",
    "lastScheduledRunId": null,
    "lastSuccessfullyExecutedCode": "# Importing pandas and matplotlib\nimport pandas as pd\nimport matplotlib.pyplot as plt\n\n# Read in the Netflix CSV as a DataFrame\nnetflix_df = pd.read_csv(\"netflix_data.csv\")"
   },
   "outputs": [],
   "source": [
    "# Importing pandas and matplotlib\n",
    "import pandas as pd\n",
    "import matplotlib.pyplot as plt\n",
    "\n",
    "# Read in the Netflix CSV as a DataFrame\n",
    "netflix_df = pd.read_csv(\"netflix_data.csv\")"
   ]
  },
  {
   "cell_type": "code",
   "execution_count": null,
   "id": "3",
   "metadata": {
    "executionCancelledAt": null,
    "executionTime": 56,
    "lastExecutedAt": 1754372668421,
    "lastExecutedByKernel": "b93c97b8-1765-4e06-9911-ee21ffa435db",
    "lastScheduledRunId": null,
    "lastSuccessfullyExecutedCode": "# Display the first few rows of the DataFrame to understand its structure\nnetflix_df.head()",
    "outputsMetadata": {
     "0": {
      "height": 50,
      "tableState": {
       "customFilter": {
        "const": {
         "type": "boolean",
         "valid": true,
         "value": true
        },
        "id": "93cdf316-de28-4d6f-962e-2dc91c728866",
        "nodeType": "const"
       }
      },
      "type": "dataFrame"
     }
    }
   },
   "outputs": [],
   "source": [
    "# Display the first few rows of the DataFrame to understand its structure\n",
    "netflix_df.head()"
   ]
  },
  {
   "cell_type": "code",
   "execution_count": null,
   "id": "4",
   "metadata": {
    "executionCancelledAt": null,
    "executionTime": 50,
    "lastExecutedAt": 1754372668471,
    "lastExecutedByKernel": "b93c97b8-1765-4e06-9911-ee21ffa435db",
    "lastScheduledRunId": null,
    "lastSuccessfullyExecutedCode": "movie = netflix_df[netflix_df['type'] == 'Movie']\nmovie90s = movie[(movie['release_year'] >= 1990) & (movie['release_year'] <= 1999)]"
   },
   "outputs": [],
   "source": [
    "movie = netflix_df[netflix_df['type'] == 'Movie']\n",
    "movie90s = movie[(movie['release_year'] >= 1990) & (movie['release_year'] <= 1999)]"
   ]
  },
  {
   "cell_type": "code",
   "execution_count": null,
   "id": "5",
   "metadata": {
    "executionCancelledAt": null,
    "executionTime": 291,
    "lastExecutedAt": 1754372668762,
    "lastExecutedByKernel": "b93c97b8-1765-4e06-9911-ee21ffa435db",
    "lastScheduledRunId": null,
    "lastSuccessfullyExecutedCode": "plt.hist(movie90s['duration'])\nplt.show()"
   },
   "outputs": [],
   "source": [
    "plt.hist(movie90s['duration'])\n",
    "plt.show()"
   ]
  },
  {
   "cell_type": "code",
   "execution_count": null,
   "id": "6",
   "metadata": {
    "executionCancelledAt": null,
    "executionTime": 45,
    "lastExecutedAt": 1754372668807,
    "lastExecutedByKernel": "b93c97b8-1765-4e06-9911-ee21ffa435db",
    "lastScheduledRunId": null,
    "lastSuccessfullyExecutedCode": "duration = 100",
    "outputsMetadata": {
     "0": {
      "height": 59,
      "type": "stream"
     }
    }
   },
   "outputs": [],
   "source": [
    "duration = 100"
   ]
  },
  {
   "cell_type": "code",
   "execution_count": null,
   "id": "7",
   "metadata": {
    "executionCancelledAt": null,
    "executionTime": 52,
    "lastExecutedAt": 1754372668859,
    "lastExecutedByKernel": "b93c97b8-1765-4e06-9911-ee21ffa435db",
    "lastScheduledRunId": null,
    "lastSuccessfullyExecutedCode": "short_action_movies = movie90s[(movie90s['genre'] == 'Action') & (movie90s['duration'] < 90)]\nshort_movie_count = short_action_movies['duration'].count()",
    "outputsMetadata": {
     "0": {
      "height": 411,
      "tableState": {
       "customFilter": {
        "const": {
         "type": "boolean",
         "valid": true,
         "value": true
        },
        "id": "b9e921db-88f0-4deb-8d8c-a7a1fe65742f",
        "nodeType": "const"
       }
      },
      "type": "dataFrame"
     }
    }
   },
   "outputs": [],
   "source": [
    "short_action_movies = movie90s[(movie90s['genre'] == 'Action') & (movie90s['duration'] < 90)]\n",
    "short_movie_count = short_action_movies['duration'].count()"
   ]
  }
 ],
 "metadata": {
  "colab": {
   "name": "Welcome to DataCamp Workspaces.ipynb",
   "provenance": []
  },
  "editor": "DataLab",
  "kernelspec": {
   "display_name": "Python 3 (User venv)",
   "language": "python",
   "name": "python3"
  },
  "language_info": {
   "codemirror_mode": {
    "name": "ipython",
    "version": 3
   },
   "file_extension": ".py",
   "mimetype": "text/x-python",
   "name": "python",
   "nbconvert_exporter": "python",
   "pygments_lexer": "ipython3",
   "version": "3.12.11"
  }
 },
 "nbformat": 4,
 "nbformat_minor": 5
}
