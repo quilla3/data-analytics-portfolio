{
 "cells": [
  {
   "cell_type": "markdown",
   "id": "0",
   "metadata": {},
   "source": [
    "![Two data scientists working on a dashboard.](hr-image-small.png)\n",
    "\n",
    "A common problem when creating models to generate business value from data is that the datasets can be so large that it can take days for the model to generate predictions. Ensuring that your dataset is stored as efficiently as possible is crucial for allowing these models to run on a more reasonable timescale without having to reduce the size of the dataset.\n",
    "\n",
    "You've been hired by a major online data science training provider called *Training Data Ltd.* to clean up one of their largest customer datasets. This dataset will eventually be used to predict whether their students are looking for a new job or not, information that they will then use to direct them to prospective recruiters.\n",
    "\n",
    "You've been given access to `customer_train.csv`, which is a subset of their entire customer dataset, so you can create a proof-of-concept of a much more efficient storage solution. The dataset contains anonymized student information, and whether they were looking for a new job or not during training:\n",
    "\n",
    "| Column                   | Description                                                                      |\n",
    "|------------------------- |--------------------------------------------------------------------------------- |\n",
    "| `student_id`             | A unique ID for each student.                                                    |\n",
    "| `city`                   | A code for the city the student lives in.                                        |\n",
    "| `city_development_index` | A scaled development index for the city.                                         |\n",
    "| `gender`                 | The student's gender.                                                            |\n",
    "| `relevant_experience`    | An indicator of the student's work relevant experience.                          |\n",
    "| `enrolled_university`    | The type of university course enrolled in (if any).                              |\n",
    "| `education_level`        | The student's education level.                                                   |\n",
    "| `major_discipline`       | The educational discipline of the student.                                       |\n",
    "| `experience`             | The student's total work experience (in years).                                  |\n",
    "| `company_size`           | The number of employees at the student's current employer.                       |\n",
    "| `company_type`           | The type of company employing the student.                                       |\n",
    "| `last_new_job`           | The number of years between the student's current and previous jobs.             |\n",
    "| `training_hours`         | The number of hours of training completed.                                       |\n",
    "| `job_change`             | An indicator of whether the student is looking for a new job (`1`) or not (`0`). |"
   ]
  },
  {
   "cell_type": "code",
   "execution_count": null,
   "id": "1",
   "metadata": {
    "executionCancelledAt": null,
    "executionTime": 66,
    "lastExecutedAt": 1758524736657,
    "lastExecutedByKernel": "63f2d3cb-7528-4ec9-9263-49b9b64e8ba5",
    "lastScheduledRunId": null,
    "lastSuccessfullyExecutedCode": "# Import necessary libraries\nimport pandas as pd\n\n# Load the dataset\nds_jobs = pd.read_csv(\"customer_train.csv\")\n\n# View the dataset\nds_jobs.head()",
    "outputsMetadata": {
     "0": {
      "height": 50,
      "tableState": {
       "customFilter": {
        "const": {
         "type": "boolean",
         "valid": true,
         "value": true
        },
        "id": "3da28ede-410d-47a7-b030-775735cff671",
        "nodeType": "const"
       }
      },
      "type": "dataFrame"
     }
    }
   },
   "outputs": [],
   "source": [
    "# Import necessary libraries\n",
    "import pandas as pd\n",
    "\n",
    "# Load the dataset\n",
    "ds_jobs = pd.read_csv(\"customer_train.csv\")\n",
    "\n",
    "# View the dataset\n",
    "ds_jobs.head()"
   ]
  },
  {
   "cell_type": "code",
   "execution_count": null,
   "id": "2",
   "metadata": {
    "executionCancelledAt": null,
    "executionTime": 50,
    "lastExecutedAt": 1758524736707,
    "lastExecutedByKernel": "63f2d3cb-7528-4ec9-9263-49b9b64e8ba5",
    "lastScheduledRunId": null,
    "lastSuccessfullyExecutedCode": "# Create a copy of ds_jobs for transforming\nds_jobs_transformed = ds_jobs.copy()\n\n# Start coding here. Use as many cells as you like!"
   },
   "outputs": [],
   "source": [
    "# Create a copy of ds_jobs for transforming\n",
    "ds_jobs_transformed = ds_jobs.copy()\n",
    "\n",
    "# Start coding here. Use as many cells as you like!"
   ]
  },
  {
   "cell_type": "code",
   "execution_count": null,
   "id": "3",
   "metadata": {
    "executionCancelledAt": null,
    "executionTime": 47,
    "lastExecutedAt": 1758524736754,
    "lastExecutedByKernel": "63f2d3cb-7528-4ec9-9263-49b9b64e8ba5",
    "lastScheduledRunId": null,
    "lastSuccessfullyExecutedCode": "ds_jobs_transformed.info()",
    "outputsMetadata": {
     "0": {
      "height": 458,
      "type": "stream"
     }
    }
   },
   "outputs": [],
   "source": [
    "ds_jobs_transformed.info()"
   ]
  },
  {
   "cell_type": "code",
   "execution_count": null,
   "id": "4",
   "metadata": {
    "executionCancelledAt": null,
    "executionTime": 48,
    "lastExecutedAt": 1758524736802,
    "lastExecutedByKernel": "63f2d3cb-7528-4ec9-9263-49b9b64e8ba5",
    "lastScheduledRunId": null,
    "lastSuccessfullyExecutedCode": "for col in ds_jobs.select_dtypes(\"object\").columns:\n    print(ds_jobs_transformed[col].value_counts(), '\\n')",
    "outputsMetadata": {
     "0": {
      "height": 616,
      "type": "stream"
     }
    }
   },
   "outputs": [],
   "source": [
    "for col in ds_jobs.select_dtypes(\"object\").columns:\n",
    "    print(ds_jobs_transformed[col].value_counts(), '\\n')"
   ]
  },
  {
   "cell_type": "code",
   "execution_count": null,
   "id": "5",
   "metadata": {
    "executionCancelledAt": null,
    "executionTime": 48,
    "lastExecutedAt": 1758524736850,
    "lastExecutedByKernel": "63f2d3cb-7528-4ec9-9263-49b9b64e8ba5",
    "lastScheduledRunId": null,
    "lastSuccessfullyExecutedCode": "ordered_cats = {\n    'enrolled_university': ['no_enrollment', 'Part time course', 'Full time course'],\n    'education_level': ['Primary School', 'High School', 'Graduate', 'Masters', 'Phd'], \n    'experience': ['<1'] + list(map(str, range(1,21))) + ['>20'], \n    'company_size': ['<10', '10-49', '50-99', '100-499', '500-999', '1000-4999', '5000-9999', '10000+'],\n    'last_new_job': ['never', '1', '2', '3', '4', '>4']\n}\n\ntwo_fac_cats = {\n    'relevant_experience': {'No relevant experience': False, 'Has relevant experience': True},\n    'job_change': {0.0: False, 1.0: True}\n}"
   },
   "outputs": [],
   "source": [
    "ordered_cats = {\n",
    "    'enrolled_university': ['no_enrollment', 'Part time course', 'Full time course'],\n",
    "    'education_level': ['Primary School', 'High School', 'Graduate', 'Masters', 'Phd'], \n",
    "    'experience': ['<1'] + list(map(str, range(1,21))) + ['>20'], \n",
    "    'company_size': ['<10', '10-49', '50-99', '100-499', '500-999', '1000-4999', '5000-9999', '10000+'],\n",
    "    'last_new_job': ['never', '1', '2', '3', '4', '>4']\n",
    "}\n",
    "\n",
    "two_fac_cats = {\n",
    "    'relevant_experience': {'No relevant experience': False, 'Has relevant experience': True},\n",
    "    'job_change': {0.0: False, 1.0: True}\n",
    "}"
   ]
  },
  {
   "cell_type": "code",
   "execution_count": null,
   "id": "6",
   "metadata": {
    "executionCancelledAt": null,
    "executionTime": 52,
    "lastExecutedAt": 1758524736902,
    "lastExecutedByKernel": "63f2d3cb-7528-4ec9-9263-49b9b64e8ba5",
    "lastScheduledRunId": null,
    "lastSuccessfullyExecutedCode": "# Fix: Iterate over column names, not values in a column\nfor col in ds_jobs_transformed.columns: \n    if col in ['relevant_experience', 'job_change']:\n        ds_jobs_transformed[col] = ds_jobs_transformed[col].map(two_fac_cats[col])\n    elif col in ['student_id', 'training_hours']:\n        ds_jobs_transformed[col] = ds_jobs_transformed[col].astype(\"int32\")\n    elif col == 'city_development_index':\n        ds_jobs_transformed[col] = ds_jobs_transformed[col].astype(\"float16\")\n    elif col in ordered_cats.keys():\n        category = pd.CategoricalDtype(categories=ordered_cats[col], ordered=True)\n        ds_jobs_transformed[col] = ds_jobs_transformed[col].astype(category)\n    else:\n        ds_jobs_transformed[col] = ds_jobs_transformed[col].astype('category')"
   },
   "outputs": [],
   "source": [
    "# Fix: Iterate over column names, not values in a column\n",
    "for col in ds_jobs_transformed.columns: \n",
    "    if col in ['relevant_experience', 'job_change']:\n",
    "        ds_jobs_transformed[col] = ds_jobs_transformed[col].map(two_fac_cats[col])\n",
    "    elif col in ['student_id', 'training_hours']:\n",
    "        ds_jobs_transformed[col] = ds_jobs_transformed[col].astype(\"int32\")\n",
    "    elif col == 'city_development_index':\n",
    "        ds_jobs_transformed[col] = ds_jobs_transformed[col].astype(\"float16\")\n",
    "    elif col in ordered_cats.keys():\n",
    "        category = pd.CategoricalDtype(categories=ordered_cats[col], ordered=True)\n",
    "        ds_jobs_transformed[col] = ds_jobs_transformed[col].astype(category)\n",
    "    else:\n",
    "        ds_jobs_transformed[col] = ds_jobs_transformed[col].astype('category')"
   ]
  },
  {
   "cell_type": "code",
   "execution_count": null,
   "id": "7",
   "metadata": {
    "executionCancelledAt": null,
    "executionTime": 47,
    "lastExecutedAt": 1758524736950,
    "lastExecutedByKernel": "63f2d3cb-7528-4ec9-9263-49b9b64e8ba5",
    "lastScheduledRunId": null,
    "lastSuccessfullyExecutedCode": "ds_jobs_transformed = ds_jobs_transformed[\n    (ds_jobs_transformed['experience'] >= '10') & (ds_jobs_transformed['company_size'] >= '1000-4999')\n]",
    "outputsMetadata": {
     "0": {
      "height": 550,
      "tableState": {
       "customFilter": {
        "const": {
         "type": "boolean",
         "valid": true,
         "value": true
        },
        "id": "f20745ba-c9e6-4c1c-8f38-bdc694e635de",
        "nodeType": "const"
       }
      },
      "type": "dataFrame"
     }
    }
   },
   "outputs": [],
   "source": [
    "ds_jobs_transformed = ds_jobs_transformed[\n",
    "    (ds_jobs_transformed['experience'] >= '10') & (ds_jobs_transformed['company_size'] >= '1000-4999')\n",
    "]"
   ]
  }
 ],
 "metadata": {
  "editor": "DataLab",
  "kernelspec": {
   "display_name": "Python 3 (User venv)",
   "language": "python",
   "name": "python3"
  },
  "language_info": {
   "codemirror_mode": {
    "name": "ipython",
    "version": 3
   },
   "file_extension": ".py",
   "mimetype": "text/x-python",
   "name": "python",
   "nbconvert_exporter": "python",
   "pygments_lexer": "ipython3",
   "version": "3.12.11"
  }
 },
 "nbformat": 4,
 "nbformat_minor": 5
}
